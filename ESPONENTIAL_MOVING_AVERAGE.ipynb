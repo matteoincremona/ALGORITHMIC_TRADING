{
 "cells": [
  {
   "cell_type": "code",
   "execution_count": null,
   "id": "3c81f209-bba4-40c2-a6e9-3a7daaf65d23",
   "metadata": {},
   "outputs": [],
   "source": [
    "# °°° Import datas from Binance °°°\n",
    "\n",
    "import datetime as dt\n",
    "import numpy as np\n",
    "import pandas as pd\n",
    "import seaborn as sns\n",
    "import matplotlib.pyplot as plt\n",
    "from plotly.offline import iplot\n",
    "import cufflinks as cf\n",
    "import binance\n",
    "\n",
    "client = binance.Client()\n",
    "data = client.get_historical_klines('BTCBUSD', client.KLINE_INTERVAL_1DAY, '14-Jun-2021', '14-Dec-2022')\n",
    "for i in range(0, len(data)):\n",
    "    for j in range(0,11):\n",
    "        data[i][j] = float(data[i][j])\n",
    "for line in data:\n",
    "    del line[2:4]\n",
    "    del line[2:]\n",
    "\n",
    "pd.options.display.max_rows = 999999\n",
    "data = pd.DataFrame(data,columns = ['Date','Close'])\n",
    "data['Date'] = pd.to_datetime(data['Date'], unit = 'ms',utc = True).map(lambda x:x.tz_convert('Europe/Rome'))\n",
    "data.set_index('Date', inplace = True)"
   ]
  },
  {
   "cell_type": "code",
   "execution_count": null,
   "id": "57a21605-cd96-4372-8e14-4d760570e538",
   "metadata": {},
   "outputs": [],
   "source": [
    "# °°° ESPONENTIAL MOVING AVERAGE function °°°\n",
    "\n",
    "def EMA(array, period):\n",
    "    \n",
    "    esp = array.ewm(span = period, adjust = False).mean()\n",
    "    \n",
    "    return esp"
   ]
  },
  {
   "cell_type": "code",
   "execution_count": null,
   "id": "963f4634-2b89-4f02-80cb-ccbb63445d58",
   "metadata": {},
   "outputs": [],
   "source": [
    "# Define EMAs\n",
    "\n",
    "data[\"EMA20\"] = EMA(data.Close, 20)\n",
    "data[\"EMA50\"] = EMA(data.Close, 50)\n",
    "data[\"EMA100\"] = EMA(data.Close, 100)"
   ]
  },
  {
   "cell_type": "code",
   "execution_count": null,
   "id": "a75bd202-20eb-4838-afa8-154d8a29f588",
   "metadata": {},
   "outputs": [],
   "source": [
    "# Grapich visualization\n",
    "\n",
    "plt.figure(figsize = (8,4), dpi = 200)\n",
    "plt.plot(data.Close, color = 'black', linewidth = 1.0)\n",
    "plt.plot(data.EMA20, color = 'red', linewidth = 0.5)\n",
    "plt.plot(data.EMA50, color = 'green', linewidth = 0.5)\n",
    "plt.plot(data.EMA100, color = 'yellow', linewidth = 0.5)\n",
    "plt.xlabel(\"Time\")\n",
    "plt.ylabel(\"Price\")\n",
    "plt.title(\"BTC/BUSD\")\n",
    "plt.show();"
   ]
  },
  {
   "cell_type": "code",
   "execution_count": null,
   "id": "5e7f7ab3-c70f-4298-8dcc-3f97cd3e1ecd",
   "metadata": {},
   "outputs": [],
   "source": []
  }
 ],
 "metadata": {
  "kernelspec": {
   "display_name": "Python 3",
   "language": "python",
   "name": "python3"
  },
  "language_info": {
   "codemirror_mode": {
    "name": "ipython",
    "version": 3
   },
   "file_extension": ".py",
   "mimetype": "text/x-python",
   "name": "python",
   "nbconvert_exporter": "python",
   "pygments_lexer": "ipython3",
   "version": "3.8.8"
  }
 },
 "nbformat": 4,
 "nbformat_minor": 5
}
