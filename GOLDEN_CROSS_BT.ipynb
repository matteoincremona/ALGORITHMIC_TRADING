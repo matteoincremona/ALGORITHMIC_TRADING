{
 "cells": [
  {
   "cell_type": "code",
   "execution_count": 1,
   "id": "adb6d0e0-63f9-445f-901f-76063a9ccf54",
   "metadata": {},
   "outputs": [],
   "source": [
    "# °°° Import datas from Binance °°°\n",
    "\n",
    "import datetime as dt\n",
    "import numpy as np\n",
    "import pandas as pd\n",
    "import seaborn as sns\n",
    "import matplotlib.pyplot as plt\n",
    "from plotly.offline import iplot\n",
    "import cufflinks as cf\n",
    "import binance\n",
    "\n",
    "client = binance.Client()\n",
    "data = client.get_historical_klines('BTCBUSD', client.KLINE_INTERVAL_1DAY, '14-Dec-2017', '2-Feb-2023')\n",
    "for i in range(0, len(data)):\n",
    "    for j in range(0,11):\n",
    "        data[i][j] = float(data[i][j])\n",
    "for line in data:\n",
    "    del line[2:4]\n",
    "    del line[2:]\n",
    "\n",
    "pd.options.display.max_rows = 999999\n",
    "data = pd.DataFrame(data,columns = ['Date','Close'])\n",
    "data['Date'] = pd.to_datetime(data['Date'], unit = 'ms',utc = True).map(lambda x:x.tz_convert('Europe/Rome'))\n",
    "data.set_index('Date', inplace = True)"
   ]
  },
  {
   "cell_type": "code",
   "execution_count": null,
   "id": "4018668e-8ea6-4c2c-b5a2-7effea3fe847",
   "metadata": {},
   "outputs": [],
   "source": []
  }
 ],
 "metadata": {
  "kernelspec": {
   "display_name": "Python 3",
   "language": "python",
   "name": "python3"
  },
  "language_info": {
   "codemirror_mode": {
    "name": "ipython",
    "version": 3
   },
   "file_extension": ".py",
   "mimetype": "text/x-python",
   "name": "python",
   "nbconvert_exporter": "python",
   "pygments_lexer": "ipython3",
   "version": "3.8.8"
  }
 },
 "nbformat": 4,
 "nbformat_minor": 5
}
