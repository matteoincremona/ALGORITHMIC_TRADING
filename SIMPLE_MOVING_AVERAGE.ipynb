{
 "cells": [
  {
   "cell_type": "code",
   "execution_count": 1,
   "id": "8f1a0650-4831-484e-b1a4-68f95645f98b",
   "metadata": {},
   "outputs": [],
   "source": [
    "# °°° Import datas from Binance °°°\n",
    "\n",
    "import datetime as dt\n",
    "import numpy as np\n",
    "import pandas as pd\n",
    "import seaborn as sns\n",
    "import matplotlib.pyplot as plt\n",
    "from plotly.offline import iplot\n",
    "import cufflinks as cf\n",
    "import binance\n",
    "\n",
    "client = binance.Client()\n",
    "data = client.get_historical_klines('BTCBUSD', client.KLINE_INTERVAL_4HOUR, '14-Dec-2021', '14-Dec-2022')\n",
    "for i in range(0, len(data)):\n",
    "    for j in range(0,11):\n",
    "        data[i][j] = float(data[i][j])\n",
    "for line in data:\n",
    "    del line[2:4]\n",
    "    del line[2:]\n",
    "\n",
    "pd.options.display.max_rows = 999999\n",
    "data = pd.DataFrame(data,columns = ['Date','Close'])\n",
    "data['Date'] = pd.to_datetime(data['Date'], unit = 'ms',utc = True).map(lambda x:x.tz_convert('Europe/Rome'))\n",
    "data.set_index('Date', inplace = True)"
   ]
  },
  {
   "cell_type": "code",
   "execution_count": 2,
   "id": "029f7f12-76ca-460e-bc95-24f91687a8ad",
   "metadata": {},
   "outputs": [],
   "source": [
    "# °°° SIMPLE MOVING AVERAGE function °°°\n",
    "\n",
    "def SMA(array, period):\n",
    "    \n",
    "    return array.rolling(period).mean()"
   ]
  },
  {
   "cell_type": "code",
   "execution_count": 3,
   "id": "c949865f-9133-48e1-a235-e353b1f486ad",
   "metadata": {},
   "outputs": [],
   "source": [
    "# Define SMAs\n",
    "\n",
    "data[\"SMA20\"] = SMA(data.Close, 20)\n",
    "data[\"SMA50\"] = SMA(data.Close, 50)\n",
    "data[\"SMA100\"] = SMA(data.Close, 100)"
   ]
  },
  {
   "cell_type": "code",
   "execution_count": null,
   "id": "d9b84901-355a-46c3-bf3b-74f29d05ec47",
   "metadata": {},
   "outputs": [],
   "source": [
    "# Grapich visualization\n",
    "\n",
    "plt.figure(figsize = (8,4), dpi = 200)\n",
    "plt.plot(data.Close, color = 'black', linewidth = 1.0)\n",
    "plt.plot(data.SMA20, color = 'red', linewidth = 0.5)\n",
    "plt.plot(data.SMA50, color = 'red', linewidth = 0.5)\n",
    "plt.plot(data.SMA100, color = 'red', linewidth = 0.5)\n",
    "plt.xlabel(\"Time\")\n",
    "plt.ylabel(\"Price\")\n",
    "plt.title(\"BTC/BUSD\")\n",
    "plt.show();"
   ]
  }
 ],
 "metadata": {
  "kernelspec": {
   "display_name": "Python 3",
   "language": "python",
   "name": "python3"
  },
  "language_info": {
   "codemirror_mode": {
    "name": "ipython",
    "version": 3
   },
   "file_extension": ".py",
   "mimetype": "text/x-python",
   "name": "python",
   "nbconvert_exporter": "python",
   "pygments_lexer": "ipython3",
   "version": "3.8.8"
  }
 },
 "nbformat": 4,
 "nbformat_minor": 5
}
